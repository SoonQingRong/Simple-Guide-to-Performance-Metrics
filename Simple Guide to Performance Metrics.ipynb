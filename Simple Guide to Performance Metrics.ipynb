{
 "cells": [
  {
   "cell_type": "markdown",
   "metadata": {},
   "source": [
    "# 1) Import libraries "
   ]
  },
  {
   "cell_type": "code",
   "execution_count": 1,
   "metadata": {},
   "outputs": [],
   "source": [
    "import numpy as np\n",
    "from sklearn.datasets import load_breast_cancer\n",
    "from sklearn.model_selection import train_test_split\n",
    "from sklearn.linear_model import LogisticRegression\n",
    "import matplotlib.pyplot as plt\n",
    "from sklearn.metrics import classification_report\n",
    "from sklearn.metrics import plot_confusion_matrix\n",
    "from sklearn.metrics import confusion_matrix\n",
    "from sklearn.metrics import accuracy_score\n",
    "from sklearn.metrics import precision_score\n",
    "from sklearn.metrics import recall_score\n",
    "from sklearn.metrics import f1_score"
   ]
  },
  {
   "cell_type": "markdown",
   "metadata": {},
   "source": [
    "# 2) Load dataset"
   ]
  },
  {
   "cell_type": "code",
   "execution_count": 2,
   "metadata": {},
   "outputs": [],
   "source": [
    "X, y = load_breast_cancer(return_X_y = True)"
   ]
  },
  {
   "cell_type": "markdown",
   "metadata": {},
   "source": [
    "# 3) See labels for dataset"
   ]
  },
  {
   "cell_type": "code",
   "execution_count": 3,
   "metadata": {},
   "outputs": [
    {
     "data": {
      "text/plain": [
       "[0, 1]"
      ]
     },
     "execution_count": 3,
     "metadata": {},
     "output_type": "execute_result"
    }
   ],
   "source": [
    "list(np.unique(y))"
   ]
  },
  {
   "cell_type": "markdown",
   "metadata": {},
   "source": [
    "# 4) Checking how many samples are 0 (malignant) and 1 (benign)"
   ]
  },
  {
   "cell_type": "code",
   "execution_count": 4,
   "metadata": {},
   "outputs": [
    {
     "name": "stdout",
     "output_type": "stream",
     "text": [
      "Total samples: 569\n",
      "Samples classified as malignant (0): 212\n",
      "Samples classified as benign (1): 357\n"
     ]
    }
   ],
   "source": [
    "print(\"Total samples:\", len(y))\n",
    "print(\"Samples classified as malignant (0):\", len(y) - sum(y))\n",
    "print(\"Samples classified as benign (1):\", sum(y))"
   ]
  },
  {
   "cell_type": "markdown",
   "metadata": {},
   "source": [
    "# 5) Split the data where 80% is used for training and 20% is used for testing"
   ]
  },
  {
   "cell_type": "code",
   "execution_count": 5,
   "metadata": {},
   "outputs": [],
   "source": [
    "X_train, X_test, y_train, y_test = train_test_split(X, y, test_size = 0.2, random_state = 2021)"
   ]
  },
  {
   "cell_type": "markdown",
   "metadata": {},
   "source": [
    "# 6) Instantiate model for classification (Logistic Regression)"
   ]
  },
  {
   "cell_type": "code",
   "execution_count": 6,
   "metadata": {},
   "outputs": [],
   "source": [
    "clf = LogisticRegression(max_iter = 10000)"
   ]
  },
  {
   "cell_type": "markdown",
   "metadata": {},
   "source": [
    "# 7) Training the model on the train data"
   ]
  },
  {
   "cell_type": "code",
   "execution_count": 7,
   "metadata": {},
   "outputs": [
    {
     "data": {
      "text/plain": [
       "LogisticRegression(max_iter=10000)"
      ]
     },
     "execution_count": 7,
     "metadata": {},
     "output_type": "execute_result"
    }
   ],
   "source": [
    "clf.fit(X_train, y_train)"
   ]
  },
  {
   "cell_type": "markdown",
   "metadata": {},
   "source": [
    "# 8) Getting classification report"
   ]
  },
  {
   "cell_type": "code",
   "execution_count": 8,
   "metadata": {},
   "outputs": [],
   "source": [
    "target_names = [\"Class 0 (Malignant)\", \"Class 1 (Benign)\"]"
   ]
  },
  {
   "cell_type": "code",
   "execution_count": 9,
   "metadata": {},
   "outputs": [
    {
     "name": "stdout",
     "output_type": "stream",
     "text": [
      "                     precision    recall  f1-score   support\n",
      "\n",
      "Class 0 (Malignant)       0.95      0.88      0.91        42\n",
      "   Class 1 (Benign)       0.93      0.97      0.95        72\n",
      "\n",
      "           accuracy                           0.94       114\n",
      "          macro avg       0.94      0.93      0.93       114\n",
      "       weighted avg       0.94      0.94      0.94       114\n",
      "\n"
     ]
    }
   ],
   "source": [
    "print(classification_report(y_test, clf.predict(X_test), target_names=target_names))"
   ]
  },
  {
   "cell_type": "markdown",
   "metadata": {},
   "source": [
    "# 9) Plotting confusion matrix (for 1 as positive)"
   ]
  },
  {
   "cell_type": "code",
   "execution_count": 10,
   "metadata": {},
   "outputs": [
    {
     "data": {
      "image/png": "[encoded data removed]",
      "text/plain": [
       "<Figure size 432x288 with 2 Axes>"
      ]
     },
     "metadata": {
      "needs_background": "light"
     },
     "output_type": "display_data"
    }
   ],
   "source": [
    "plot_confusion_matrix(clf, X_test, y_test)\n",
    "plt.show();  "
   ]
  },
  {
   "cell_type": "markdown",
   "metadata": {},
   "source": [
    "# 10) Getting the components of the confusion matrix (for 1 as positive)"
   ]
  },
  {
   "cell_type": "code",
   "execution_count": 11,
   "metadata": {},
   "outputs": [],
   "source": [
    "tn_1_pos, fp_1_pos, fn_1_pos, tp_1_pos = confusion_matrix(y_test, clf.predict(X_test), labels=[0,1]).ravel()"
   ]
  },
  {
   "cell_type": "code",
   "execution_count": 12,
   "metadata": {},
   "outputs": [
    {
     "data": {
      "text/plain": [
       "(37, 5, 2, 70)"
      ]
     },
     "execution_count": 12,
     "metadata": {},
     "output_type": "execute_result"
    }
   ],
   "source": [
    "tn_1_pos, fp_1_pos, fn_1_pos, tp_1_pos"
   ]
  },
  {
   "cell_type": "markdown",
   "metadata": {},
   "source": [
    "# 11) Analysing 2nd row of classification report"
   ]
  },
  {
   "cell_type": "code",
   "execution_count": 13,
   "metadata": {},
   "outputs": [
    {
     "name": "stdout",
     "output_type": "stream",
     "text": [
      "                     precision    recall  f1-score   support\n",
      "\n",
      "Class 0 (Malignant)       0.95      0.88      0.91        42\n",
      "   Class 1 (Benign)       0.93      0.97      0.95        72\n",
      "\n",
      "           accuracy                           0.94       114\n",
      "          macro avg       0.94      0.93      0.93       114\n",
      "       weighted avg       0.94      0.94      0.94       114\n",
      "\n"
     ]
    }
   ],
   "source": [
    "print(classification_report(y_test, clf.predict(X_test), target_names=target_names))"
   ]
  },
  {
   "cell_type": "markdown",
   "metadata": {},
   "source": [
    "# 11.1) Precision (for 1 as positive)"
   ]
  },
  {
   "cell_type": "code",
   "execution_count": 14,
   "metadata": {},
   "outputs": [
    {
     "name": "stdout",
     "output_type": "stream",
     "text": [
      "Precision (for 1 as positive): 0.9333333333333333\n",
      "Precision from manual calculation (for 1 as positive): 0.9333333333333333\n"
     ]
    }
   ],
   "source": [
    "precision_manual_1_pos = tp_1_pos/(tp_1_pos + fp_1_pos)\n",
    "print(\"Precision (for 1 as positive):\", precision_score(y_test, clf.predict(X_test)))\n",
    "print(\"Precision from manual calculation (for 1 as positive):\", precision_manual_1_pos)"
   ]
  },
  {
   "cell_type": "markdown",
   "metadata": {},
   "source": [
    "# 11.2) Recall (for 1 as positive)"
   ]
  },
  {
   "cell_type": "code",
   "execution_count": 15,
   "metadata": {},
   "outputs": [
    {
     "name": "stdout",
     "output_type": "stream",
     "text": [
      "Recall (for 1 as positive): 0.9722222222222222\n",
      "Recall from manual calculation (for 1 as positive): 0.9722222222222222\n"
     ]
    }
   ],
   "source": [
    "recall_manual_1_pos = tp_1_pos/(tp_1_pos + fn_1_pos)\n",
    "print(\"Recall (for 1 as positive):\", recall_score(y_test, clf.predict(X_test)))\n",
    "print(\"Recall from manual calculation (for 1 as positive):\", recall_manual_1_pos)"
   ]
  },
  {
   "cell_type": "markdown",
   "metadata": {},
   "source": [
    "# 11.3) F1 Score (for 1 as positive)"
   ]
  },
  {
   "cell_type": "code",
   "execution_count": 16,
   "metadata": {},
   "outputs": [
    {
     "name": "stdout",
     "output_type": "stream",
     "text": [
      "F1 Score (for 1 as positive): 0.9523809523809524\n",
      "F1 Score from manual calculation (for 1 as positive): 0.9523809523809524\n"
     ]
    }
   ],
   "source": [
    "f1_score_manual_1_pos = 2 * (precision_manual_1_pos * recall_manual_1_pos) / (precision_manual_1_pos + recall_manual_1_pos)\n",
    "print(\"F1 Score (for 1 as positive):\", f1_score(y_test, clf.predict(X_test)))\n",
    "print(\"F1 Score from manual calculation (for 1 as positive):\", f1_score_manual_1_pos)"
   ]
  },
  {
   "cell_type": "markdown",
   "metadata": {},
   "source": [
    "# 11.4) Support (for 1 as positive)"
   ]
  },
  {
   "cell_type": "code",
   "execution_count": 17,
   "metadata": {},
   "outputs": [
    {
     "name": "stdout",
     "output_type": "stream",
     "text": [
      "Support (for 1 as positive): 72\n",
      "Support from manual calculation (for 1 as positive): 72\n"
     ]
    }
   ],
   "source": [
    "support_manual_1_pos = tp_1_pos + fn_1_pos\n",
    "print(\"Support (for 1 as positive):\", sum(y_test))\n",
    "print(\"Support from manual calculation (for 1 as positive):\", support_manual_1_pos)"
   ]
  },
  {
   "cell_type": "markdown",
   "metadata": {},
   "source": [
    "# 12) Analysing 1st row of classification report"
   ]
  },
  {
   "cell_type": "code",
   "execution_count": 18,
   "metadata": {},
   "outputs": [
    {
     "name": "stdout",
     "output_type": "stream",
     "text": [
      "                     precision    recall  f1-score   support\n",
      "\n",
      "Class 0 (Malignant)       0.95      0.88      0.91        42\n",
      "   Class 1 (Benign)       0.93      0.97      0.95        72\n",
      "\n",
      "           accuracy                           0.94       114\n",
      "          macro avg       0.94      0.93      0.93       114\n",
      "       weighted avg       0.94      0.94      0.94       114\n",
      "\n"
     ]
    }
   ],
   "source": [
    "print(classification_report(y_test, clf.predict(X_test), target_names=target_names))"
   ]
  },
  {
   "cell_type": "markdown",
   "metadata": {},
   "source": [
    "# 12.1) Plotting confusion matrix (for 0 as positive)"
   ]
  },
  {
   "cell_type": "code",
   "execution_count": 19,
   "metadata": {},
   "outputs": [
    {
     "data": {
      "image/png": "[encoded data removed]",
      "text/plain": [
       "<Figure size 432x288 with 2 Axes>"
      ]
     },
     "metadata": {
      "needs_background": "light"
     },
     "output_type": "display_data"
    }
   ],
   "source": [
    "plot_confusion_matrix(clf, X_test, y_test, labels = [1,0])\n",
    "plt.show();"
   ]
  },
  {
   "cell_type": "markdown",
   "metadata": {},
   "source": [
    "# 12.2) Getting the components of the confusion matrix (for 0 as positive)"
   ]
  },
  {
   "cell_type": "code",
   "execution_count": 20,
   "metadata": {},
   "outputs": [],
   "source": [
    "tn_0_pos, fp_0_pos, fn_0_pos, tp_0_pos = confusion_matrix(y_test, clf.predict(X_test), labels=[1,0]).ravel()"
   ]
  },
  {
   "cell_type": "code",
   "execution_count": 21,
   "metadata": {},
   "outputs": [
    {
     "data": {
      "text/plain": [
       "(70, 2, 5, 37)"
      ]
     },
     "execution_count": 21,
     "metadata": {},
     "output_type": "execute_result"
    }
   ],
   "source": [
    "tn_0_pos, fp_0_pos, fn_0_pos, tp_0_pos"
   ]
  },
  {
   "cell_type": "markdown",
   "metadata": {},
   "source": [
    "# 12.3) Precision (for 0 as positive) "
   ]
  },
  {
   "cell_type": "code",
   "execution_count": 22,
   "metadata": {},
   "outputs": [
    {
     "name": "stdout",
     "output_type": "stream",
     "text": [
      "Precision (for 0 as positive): 0.9487179487179487\n",
      "Precision from manual calculation (for 0 as positive): 0.9487179487179487\n"
     ]
    }
   ],
   "source": [
    "precision_manual_0_pos = tp_0_pos/(tp_0_pos + fp_0_pos)\n",
    "print(\"Precision (for 0 as positive):\", precision_score(y_test, clf.predict(X_test), pos_label=0))\n",
    "print(\"Precision from manual calculation (for 0 as positive):\", precision_manual_0_pos)"
   ]
  },
  {
   "cell_type": "markdown",
   "metadata": {},
   "source": [
    "# 12.4) Recall (for 0 as positive) "
   ]
  },
  {
   "cell_type": "code",
   "execution_count": 23,
   "metadata": {},
   "outputs": [
    {
     "name": "stdout",
     "output_type": "stream",
     "text": [
      "Recall (for 0 as positive): 0.8809523809523809\n",
      "Recall from manual calculation (for 0 as positive): 0.8809523809523809\n"
     ]
    }
   ],
   "source": [
    "recall_manual_0_pos = tp_0_pos/(tp_0_pos + fn_0_pos)\n",
    "print(\"Recall (for 0 as positive):\", recall_score(y_test, clf.predict(X_test), pos_label=0))\n",
    "print(\"Recall from manual calculation (for 0 as positive):\", recall_manual_0_pos)"
   ]
  },
  {
   "cell_type": "markdown",
   "metadata": {},
   "source": [
    "# 12.5) F1 Score (for 0 as positive)"
   ]
  },
  {
   "cell_type": "code",
   "execution_count": 24,
   "metadata": {},
   "outputs": [
    {
     "name": "stdout",
     "output_type": "stream",
     "text": [
      "F1 Score (for 0 as positive): 0.9135802469135802\n",
      "F1 Score from manual calculation (for 0 as positive): 0.9135802469135802\n"
     ]
    }
   ],
   "source": [
    "f1_score_manual_0_pos = 2 * (precision_manual_0_pos * recall_manual_0_pos) / (precision_manual_0_pos + recall_manual_0_pos)\n",
    "print(\"F1 Score (for 0 as positive):\", f1_score(y_test, clf.predict(X_test), pos_label=0))\n",
    "print(\"F1 Score from manual calculation (for 0 as positive):\", f1_score_manual_0_pos)"
   ]
  },
  {
   "cell_type": "markdown",
   "metadata": {},
   "source": [
    "# 12.6) Support (for 0 as positive)"
   ]
  },
  {
   "cell_type": "code",
   "execution_count": 25,
   "metadata": {},
   "outputs": [
    {
     "name": "stdout",
     "output_type": "stream",
     "text": [
      "Support (for 0 as positive): 42\n",
      "Support from manual calculation (for 0 as positive): 42\n"
     ]
    }
   ],
   "source": [
    "support_manual_0_pos = tp_0_pos + fn_0_pos\n",
    "print(\"Support (for 0 as positive):\", len(y_test) - sum(y_test))\n",
    "print(\"Support from manual calculation (for 0 as positive):\", support_manual_0_pos)"
   ]
  },
  {
   "cell_type": "markdown",
   "metadata": {},
   "source": [
    "# 13) Analysing 3rd column of classification report"
   ]
  },
  {
   "cell_type": "code",
   "execution_count": 26,
   "metadata": {},
   "outputs": [
    {
     "name": "stdout",
     "output_type": "stream",
     "text": [
      "                     precision    recall  f1-score   support\n",
      "\n",
      "Class 0 (Malignant)       0.95      0.88      0.91        42\n",
      "   Class 1 (Benign)       0.93      0.97      0.95        72\n",
      "\n",
      "           accuracy                           0.94       114\n",
      "          macro avg       0.94      0.93      0.93       114\n",
      "       weighted avg       0.94      0.94      0.94       114\n",
      "\n"
     ]
    }
   ],
   "source": [
    "print(classification_report(y_test, clf.predict(X_test), target_names=target_names))"
   ]
  },
  {
   "cell_type": "markdown",
   "metadata": {},
   "source": [
    "# 13.1) F1 Score (for 0 as positive)"
   ]
  },
  {
   "cell_type": "code",
   "execution_count": 27,
   "metadata": {},
   "outputs": [
    {
     "name": "stdout",
     "output_type": "stream",
     "text": [
      "F1 Score (for 0 as positive): 0.9135802469135802\n",
      "F1 Score from manual calculation (for 0 as positive): 0.9135802469135802\n"
     ]
    }
   ],
   "source": [
    "f1_score_manual_0_pos = 2 * (precision_manual_0_pos * recall_manual_0_pos) / (precision_manual_0_pos + recall_manual_0_pos)\n",
    "print(\"F1 Score (for 0 as positive):\", f1_score(y_test, clf.predict(X_test), pos_label=0))\n",
    "print(\"F1 Score from manual calculation (for 0 as positive):\", f1_score_manual_0_pos)"
   ]
  },
  {
   "cell_type": "markdown",
   "metadata": {},
   "source": [
    "# 13.2) F1 Score (for 1 as positive)"
   ]
  },
  {
   "cell_type": "code",
   "execution_count": 28,
   "metadata": {},
   "outputs": [
    {
     "name": "stdout",
     "output_type": "stream",
     "text": [
      "F1 Score (for 1 as positive): 0.9523809523809524\n",
      "F1 Score from manual calculation (for 1 as positive): 0.9523809523809524\n"
     ]
    }
   ],
   "source": [
    "f1_score_manual_1_pos = 2 * (precision_manual_1_pos * recall_manual_1_pos) / (precision_manual_1_pos + recall_manual_1_pos)\n",
    "print(\"F1 Score (for 1 as positive):\", f1_score(y_test, clf.predict(X_test)))\n",
    "print(\"F1 Score from manual calculation (for 1 as positive):\", f1_score_manual_1_pos)"
   ]
  },
  {
   "cell_type": "markdown",
   "metadata": {},
   "source": [
    "# 13.3) Accuracy (using both 0 as positive and 1 as positive)"
   ]
  },
  {
   "cell_type": "code",
   "execution_count": 29,
   "metadata": {},
   "outputs": [
    {
     "name": "stdout",
     "output_type": "stream",
     "text": [
      "Accuracy: 0.9385964912280702\n",
      "Accuracy from manual calculation from manual calculation (for 0 as positive): 0.9385964912280702\n",
      "Accuracy from manual calculation from manual calculation (for 1 as positive): 0.9385964912280702\n"
     ]
    }
   ],
   "source": [
    "accuracy_manual_0_pos = (tn_0_pos + tp_0_pos)/(tn_0_pos + fp_0_pos + fn_0_pos + tp_0_pos)\n",
    "accuracy_manual_1_pos = (tn_1_pos + tp_1_pos)/(tn_1_pos + fp_1_pos + fn_1_pos + tp_1_pos)\n",
    "\n",
    "print(\"Accuracy:\", accuracy_score(y_test, clf.predict(X_test)))\n",
    "print(\"Accuracy from manual calculation from manual calculation (for 0 as positive):\", accuracy_manual_0_pos)\n",
    "print(\"Accuracy from manual calculation from manual calculation (for 1 as positive):\", accuracy_manual_1_pos)"
   ]
  },
  {
   "cell_type": "markdown",
   "metadata": {},
   "source": [
    "# 13.4) F1 Score using macro average (unweighted average)"
   ]
  },
  {
   "cell_type": "code",
   "execution_count": 30,
   "metadata": {},
   "outputs": [
    {
     "name": "stdout",
     "output_type": "stream",
     "text": [
      "F1 Score (Macro Average) (for 1 as positive): 0.9329805996472663\n",
      "F1 Score (Macro Average) from manual calculation (for 1 as positive): 0.9329805996472663\n"
     ]
    }
   ],
   "source": [
    "f1_score_manual_1_pos_macro_ave = (f1_score_manual_0_pos + f1_score_manual_1_pos)/ 2\n",
    "print(\"F1 Score (Macro Average) (for 1 as positive):\", f1_score(y_test, clf.predict(X_test), average = \"macro\"))\n",
    "print(\"F1 Score (Macro Average) from manual calculation (for 1 as positive):\", f1_score_manual_1_pos_macro_ave)"
   ]
  },
  {
   "cell_type": "markdown",
   "metadata": {},
   "source": [
    "# 13.5) F1 Score using weighted average"
   ]
  },
  {
   "cell_type": "code",
   "execution_count": 31,
   "metadata": {},
   "outputs": [
    {
     "data": {
      "text/plain": [
       "42"
      ]
     },
     "execution_count": 31,
     "metadata": {},
     "output_type": "execute_result"
    }
   ],
   "source": [
    "support_manual_0_pos"
   ]
  },
  {
   "cell_type": "code",
   "execution_count": 32,
   "metadata": {},
   "outputs": [
    {
     "data": {
      "text/plain": [
       "72"
      ]
     },
     "execution_count": 32,
     "metadata": {},
     "output_type": "execute_result"
    }
   ],
   "source": [
    "support_manual_1_pos"
   ]
  },
  {
   "cell_type": "code",
   "execution_count": 33,
   "metadata": {},
   "outputs": [
    {
     "name": "stdout",
     "output_type": "stream",
     "text": [
      "F1 Score (for 1 as positive): 0.9380859556298152\n",
      "F1 Score (Weighted Average) from manual calculation (for 1 as positive): 0.9380859556298152\n"
     ]
    }
   ],
   "source": [
    "f1_score_manual_1_pos_weighted_ave = (support_manual_0_pos * f1_score_manual_0_pos + support_manual_1_pos * f1_score_manual_1_pos)/ (support_manual_0_pos + support_manual_1_pos)\n",
    "print(\"F1 Score (for 1 as positive):\", f1_score(y_test, clf.predict(X_test), average = \"weighted\"))\n",
    "print(\"F1 Score (Weighted Average) from manual calculation (for 1 as positive):\", f1_score_manual_1_pos_weighted_ave)"
   ]
  }
 ],
 "metadata": {
  "kernelspec": {
   "display_name": "Python 3",
   "language": "python",
   "name": "python3"
  },
  "language_info": {
   "codemirror_mode": {
    "name": "ipython",
    "version": 3
   },
   "file_extension": ".py",
   "mimetype": "text/x-python",
   "name": "python",
   "nbconvert_exporter": "python",
   "pygments_lexer": "ipython3",
   "version": "3.8.5"
  },
  "varInspector": {
   "cols": {
    "lenName": 16,
    "lenType": 16,
    "lenVar": 40
   },
   "kernels_config": {
    "python": {
     "delete_cmd_postfix": "",
     "delete_cmd_prefix": "del ",
     "library": "var_list.py",
     "varRefreshCmd": "print(var_dic_list())"
    },
    "r": {
     "delete_cmd_postfix": ") ",
     "delete_cmd_prefix": "rm(",
     "library": "var_list.r",
     "varRefreshCmd": "cat(var_dic_list()) "
    }
   },
   "types_to_exclude": [
    "module",
    "function",
    "builtin_function_or_method",
    "instance",
    "_Feature"
   ],
   "window_display": false
  }
 },
 "nbformat": 4,
 "nbformat_minor": 4
}
